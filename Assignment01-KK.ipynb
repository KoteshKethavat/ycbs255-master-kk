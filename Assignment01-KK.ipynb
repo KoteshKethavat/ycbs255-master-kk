{
 "cells": [
  {
   "cell_type": "code",
   "execution_count": 48,
   "metadata": {},
   "outputs": [
    {
     "name": "stdout",
     "output_type": "stream",
     "text": [
      "62.74473297766668\n",
      "New Individual with 18 years of Education will have the Income  as  73.0\n",
      "************ Solutions for 4th ***********\n",
      "New Individual with 18years of Education & 60 years of Seniority will  have the Income as  66.0\n",
      "                            OLS Regression Results                            \n",
      "==============================================================================\n",
      "Dep. Variable:                 Income   R-squared:                       0.934\n",
      "Model:                            OLS   Adj. R-squared:                  0.929\n",
      "Method:                 Least Squares   F-statistic:                     191.4\n",
      "Date:                Sun, 08 Apr 2018   Prob (F-statistic):           1.13e-16\n",
      "Time:                        19:10:33   Log-Likelihood:                -100.15\n",
      "No. Observations:                  30   AIC:                             206.3\n",
      "Df Residuals:                      27   BIC:                             210.5\n",
      "Df Model:                           2                                         \n",
      "Covariance Type:            nonrobust                                         \n",
      "==============================================================================\n",
      "                 coef    std err          t      P>|t|      [0.025      0.975]\n",
      "------------------------------------------------------------------------------\n",
      "Intercept    -50.0856      5.999     -8.349      0.000     -62.394     -37.777\n",
      "Education      5.8956      0.357     16.513      0.000       5.163       6.628\n",
      "Seniority      0.1729      0.024      7.079      0.000       0.123       0.223\n",
      "==============================================================================\n",
      "Omnibus:                        3.352   Durbin-Watson:                   2.102\n",
      "Prob(Omnibus):                  0.187   Jarque-Bera (JB):                2.672\n",
      "Skew:                           0.729   Prob(JB):                        0.263\n",
      "Kurtosis:                       2.892   Cond. No.                         502.\n",
      "==============================================================================\n",
      "\n",
      "Warnings:\n",
      "[1] Standard Errors assume that the covariance matrix of the errors is correctly specified.\n"
     ]
    },
    {
     "data": {
      "image/png": "[encoded data removed]",
      "text/plain": [
       "<matplotlib.figure.Figure at 0x28d37f4bb38>"
      ]
     },
     "metadata": {},
     "output_type": "display_data"
    }
   ],
   "source": [
    "import numpy as np\n",
    "import pandas as pd\n",
    "import matplotlib.pyplot as plt\n",
    "import statsmodels.formula.api as smf\n",
    "\n",
    "from sklearn.linear_model import LinearRegression\n",
    "\n",
    "%matplotlib inline\n",
    "\n",
    "lr_yearsOfEdu = LinearRegression();\n",
    "lr_combination = LinearRegression();\n",
    "lr_seniority = LinearRegression();\n",
    "lr = LinearRegression();\n",
    "\n",
    "# FilePath of the input csv file\n",
    "filePath = \"C:\\\\Users\\\\koteshwarlu.kethavat\\\\Desktop\\\\\"\n",
    "fileName=filePath+\"Income2.csv\"\n",
    "# print(fileName)\n",
    "# File has the following headers \n",
    "#Education,Seniority,Income\n",
    "income_data = pd.read_csv(fileName);\n",
    "#print(income_data.head())\n",
    "#print(income_data.describe())\n",
    "#print(np.mean(income_data[\"Income\"]))\n",
    "# Fit the data into the Linear Regression.\n",
    "lr_yearsOfEdu.fit(X=income_data[['Education']], y= income_data['Income'])\n",
    "lr_seniority.fit(X=income_data[['Seniority']], y= income_data['Income'])\n",
    "# After fitting the trained data, Plot the chart\n",
    "plt.plot(income_data.Education, income_data.Income, 'or', mfc='none');\n",
    "\n",
    "# Model as Y ≈β0 + β1X1 + β2X2 + ...+ βpXp.\n",
    "plt.plot(income_data.Education, lr_yearsOfEdu.intercept_+lr_yearsOfEdu.coef_*income_data.Education, '-b');\n",
    "plt.xlabel('Years of Eductaion');\n",
    "plt.ylabel('Income')\n",
    "\n",
    "#Plot for the Income vs Seniority\n",
    "'''plt2.plot(income_data.Seniority, lr_seniority.intercept_+lr_seniority.coef_*income_data.Seniority, '-b');\n",
    "plt2.xlabel('Years of Seniority');\n",
    "plt2.ylabel('Income')\n",
    "'''\n",
    "# Now Predict the income based on the Input of Years of Education\n",
    "# Lets try with 18 years of Experince\n",
    "yearsOfEducation_X  = np.array([18])\n",
    "#Reshape to Matrix of 1x1\n",
    "answer2 = lr_yearsOfEdu.predict(yearsOfEducation_X.reshape(1,1));\n",
    "# print(type(answer2))\n",
	"print(answer2[0])\n",
    "print(\"New Individual with 18 years of Education will have the Income  as \", round(answer2[0]));\n",
    "print(\"************ Solutions for 4th ***********\")\n",
    "lr_combination.fit(X=income_data[['Education','Seniority']], y= income_data['Income'])\n",
    "combinationPredictor_X = np.array([18,60])\n",
    "answer4 = lr_combination.predict(combinationPredictor_X.reshape(1,2));\n",
    "# print(round(answer4[0]))\n",
    "print(\"New Individual with 18years of Education & 60 years of Seniority will  have the Income as \", round(answer4[0]));\n",
    "\n",
    "model = smf.ols(formula='Income ~ Education + Seniority' , data=income_data)\n",
    "lr = model.fit();\n",
    "print(lr.summary());"
   ]
  },
  {
   "cell_type": "code",
   "execution_count": null,
   "metadata": {},
   "outputs": [],
   "source": []
  }
 ],
 "metadata": {
  "kernelspec": {
   "display_name": "Python 3",
   "language": "python",
   "name": "python3"
  },
  "language_info": {
   "codemirror_mode": {
    "name": "ipython",
    "version": 3
   },
   "file_extension": ".py",
   "mimetype": "text/x-python",
   "name": "python",
   "nbconvert_exporter": "python",
   "pygments_lexer": "ipython3",
   "version": "3.6.4"
  }
 },
 "nbformat": 4,
 "nbformat_minor": 2
}
